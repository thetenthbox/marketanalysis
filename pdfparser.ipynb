{
 "cells": [
  {
   "cell_type": "markdown",
   "id": "dbb4ba91",
   "metadata": {},
   "source": [
    "### Text sentiment analyser\n",
    "\n",
    "Sarang Balan & Jean-Phillipe Maltais\n",
    "\n",
    "Run the following code to install the necessary libraries, including some requirements"
   ]
  },
  {
   "cell_type": "code",
   "execution_count": 3,
   "id": "515903f3",
   "metadata": {},
   "outputs": [
    {
     "name": "stdout",
     "output_type": "stream",
     "text": [
      "Requirement already satisfied: shapely in c:\\users\\sarang\\miniconda3\\envs\\finenv\\lib\\site-packages (1.7.1)\n"
     ]
    }
   ],
   "source": [
    "!pip install shapely\n",
    "!pip install sentencepiece\n",
    "import time\n",
    "from py_pdf_parser.loaders import load_file\n",
    "from py_pdf_parser.visualise import visualise\n",
    "\n"
   ]
  },
  {
   "cell_type": "markdown",
   "id": "75dbb0c3",
   "metadata": {},
   "source": [
    "Load the document in question"
   ]
  },
  {
   "cell_type": "code",
   "execution_count": 2,
   "id": "9091fc1b",
   "metadata": {},
   "outputs": [],
   "source": [
    "\n",
    "document = load_file(\"RBC1.pdf\")\n"
   ]
  },
  {
   "cell_type": "code",
   "execution_count": 3,
   "id": "9a5997e3",
   "metadata": {
    "collapsed": true
   },
   "outputs": [
    {
     "data": {
      "text/plain": [
       "{'ABCDEE+Calibri,10.0',\n",
       " 'ABCDEE+Calibri,6.0',\n",
       " 'ABCDEE+Calibri,8.0',\n",
       " 'ABCDEE+Calibri,Bold,8.0',\n",
       " 'AUPMZC+Calibri,7.0',\n",
       " 'AUPMZC+Calibri,8.0',\n",
       " 'AUPMZC+Calibri,9.0',\n",
       " 'ECEHIB+Calibri,10.0',\n",
       " 'ECEHIB+Calibri,11.0',\n",
       " 'ECEHIB+Calibri,12.0',\n",
       " 'ECEHIB+Calibri,5.6',\n",
       " 'ECEHIB+Calibri,5.9',\n",
       " 'ECEHIB+Calibri,6.0',\n",
       " 'ECEHIB+Calibri,7.0',\n",
       " 'ECEHIB+Calibri,7.1',\n",
       " 'ECEHIB+Calibri,8.0',\n",
       " 'ECEHIB+Calibri,9.0',\n",
       " 'ECEHIC+Calibri-Bold,10.0',\n",
       " 'ECEHIC+Calibri-Bold,11.0',\n",
       " 'ECEHIC+Calibri-Bold,14.0',\n",
       " 'ECEHIC+Calibri-Bold,16.0',\n",
       " 'ECEHIC+Calibri-Bold,4.6',\n",
       " 'ECEHIC+Calibri-Bold,7.1',\n",
       " 'ECEHIC+Calibri-Bold,8.0',\n",
       " 'ECEHID+Arial-BoldMT,5.3',\n",
       " 'ECEHID+Arial-BoldMT,6.7',\n",
       " 'ECEHID+Arial-BoldMT,7.7',\n",
       " 'ECEHIE+ArialMT,4.9',\n",
       " 'OVENGC+Calibri-Bold,9.0'}"
      ]
     },
     "execution_count": 3,
     "metadata": {},
     "output_type": "execute_result"
    }
   ],
   "source": [
    "set(element.font for element in document.elements)"
   ]
  },
  {
   "cell_type": "code",
   "execution_count": 4,
   "id": "7a514453",
   "metadata": {},
   "outputs": [],
   "source": [
    "FONT_MAPPING = {\n",
    "    r\"\\w{6}\\+Calibri,10.0\": \"body\",\n",
    "}\n",
    "document = load_file(\"RBC1.pdf\", font_mapping=FONT_MAPPING, font_mapping_is_regex=True)"
   ]
  },
  {
   "cell_type": "code",
   "execution_count": 5,
   "id": "69f16dfa",
   "metadata": {},
   "outputs": [],
   "source": [
    "#visualise(document,show_info=True)"
   ]
  },
  {
   "cell_type": "code",
   "execution_count": 6,
   "id": "80ece8f8",
   "metadata": {},
   "outputs": [],
   "source": [
    "listoftexts = (\n",
    "    document.elements.filter_by_font(\"body\")\n",
    ")"
   ]
  },
  {
   "cell_type": "code",
   "execution_count": 7,
   "id": "8795cbdc",
   "metadata": {
    "scrolled": true
   },
   "outputs": [
    {
     "data": {
      "text/plain": [
       "'Dunelm Group PLC\\nDunelm - recent pullback provides a buying\\nopportunity; upgrade to Outperform\\nOur view: The Dunelm share price has come off c.20% in the past month\\non store closures and rotation out of so-called \"Covid beneficiaries.\" We\\nthink  it  provides  a  more  attractive  entry  point  to  buy  a  growing,  well-\\nmanaged retailer with a range advantage and which is well placed to make\\nfurther enhanced cash returns to shareholders. Upgrade to Outperform.'"
      ]
     },
     "execution_count": 7,
     "metadata": {},
     "output_type": "execute_result"
    }
   ],
   "source": [
    "listoftexts[0].text()"
   ]
  },
  {
   "cell_type": "code",
   "execution_count": 8,
   "id": "82f250be",
   "metadata": {},
   "outputs": [
    {
     "data": {
      "text/plain": [
       "'Key points:\\nSuccessful  transition  to  Digital  and  Click  and  Collect.  Frustratingly  for\\nDunelm, following a very strong October, homewares were not included\\nin  the  list  of  \"essential\"  categories  for  retailers  operating  in  England\\nin  November.  However,  Dunelm\\'s  delivery  to  home  service  (c.15%  of\\nsales)  provides  a  partial  offset  and  its  stores  should  reopen  again  in\\nDecember,  when  we  expect  to  see  pent-up  demand  coming  through.\\nDunelm\\'s  enhanced  digital  platform  provides  customers  with  a  better\\nwebsite experience and delivery options, along with Click & Collect.'"
      ]
     },
     "execution_count": 8,
     "metadata": {},
     "output_type": "execute_result"
    }
   ],
   "source": [
    "listoftexts[1].text()"
   ]
  },
  {
   "cell_type": "code",
   "execution_count": 9,
   "id": "78203838",
   "metadata": {},
   "outputs": [],
   "source": [
    "paragraph_dict = {}\n",
    "\n",
    "for idx,item in enumerate(listoftexts):\n",
    "    mystring = item.text().replace('\\n', ' ')\n",
    "    paragraph_dict[idx] = mystring"
   ]
  },
  {
   "cell_type": "code",
   "execution_count": 10,
   "id": "31e3837d",
   "metadata": {},
   "outputs": [
    {
     "data": {
      "text/plain": [
       "{0: 'Dunelm Group PLC Dunelm - recent pullback provides a buying opportunity; upgrade to Outperform Our view: The Dunelm share price has come off c.20% in the past month on store closures and rotation out of so-called \"Covid beneficiaries.\" We think  it  provides  a  more  attractive  entry  point  to  buy  a  growing,  well- managed retailer with a range advantage and which is well placed to make further enhanced cash returns to shareholders. Upgrade to Outperform.',\n",
       " 1: 'Key points: Successful  transition  to  Digital  and  Click  and  Collect.  Frustratingly  for Dunelm, following a very strong October, homewares were not included in  the  list  of  \"essential\"  categories  for  retailers  operating  in  England in  November.  However,  Dunelm\\'s  delivery  to  home  service  (c.15%  of sales)  provides  a  partial  offset  and  its  stores  should  reopen  again  in December,  when  we  expect  to  see  pent-up  demand  coming  through. Dunelm\\'s  enhanced  digital  platform  provides  customers  with  a  better website experience and delivery options, along with Click & Collect.',\n",
       " 2: 'Potential to continue strong track record of cash returns. Dunelm has a strong balance sheet, with a net cash position of £156mn as at 31 October 2020 and access to £175mn of bank financing facilities. As such, assuming a more normalised trading environment in 2021, we see potential for it to pay higher dividends, given its current net cash position and net debt/ EBITDA  target  range  of  0.2-0.6x.  Dunelm  last  paid  a  special  dividend  in October  2019  of  £65mn  (32p/share)  and  since  IPO  has  a  strong  track record of returning surplus cash to shareholders.',\n",
       " 3: \"Range  advantage.  Dunelm  operates  at  the  value  end  of  the  market which  should  serve  it  well  given  likely  pressures  on  employment  and consumer incomes. As the UK's leading specialist homewares retailer, it has a significant range advantage with over 300k lines online. Dunelm also has less seasonal inventory risk compared with apparel retailers.\",\n",
       " 4: 'Underlying demand for homewares remains strong. We expect demand for homewares to be stronger for longer as consumers spend more time at home with more flexible working arrangements. However, we recognise Dunelm will likely face tougher comps in FY22, albeit the stronger GBP vs USD rate should provide a gross margin tailwind for that year. We have trimmed our FY22-23 PBT estimates by 3% but this still leaves us slightly above consensus.',\n",
       " 5: 'Valuation now looks more attractive. We value Dunelm at 1,450p based on a DCF analysis, using a terminal growth rate of 2% and a WACC of 7.5%. Post a recent share price correction, Dunelm is now trading at 11x CY21E adj.  EV/EBITDAR,  slightly  above  its  historical  average,  but  we  think  it  is better set up now for continued omnichannel expansion. We also note the CEO and CFO now have more \"skin in the game\" due to an LTIP based on performance until June 2023 (nil cost option price 1,186p).',\n",
       " 6: 'Exhibit 1: Dunelm Group PLC',\n",
       " 7: 'Investment summary We rate Dunelm Outperform (PT of 1,450p). When its stores have been open, Dunelm has continued to gain share on a LFL basis and has recently been able to benefit from consumers spending more time at home. It is a well-run business with a significant range advantage, and is very cash generative, which should  in  time  allow  it  to  make  additional  cash  returns  to shareholders. Management are highly incentivised to create shareholder value due to their 3-year LTIP.',\n",
       " 8: 'Potential catalysts Dunelm will release a Q2 IMS in January. As a pure-play in UK homewares, offering strong value for money and a very broad range, Dunelm looks well positioned to take advantage of a likely sustained improvement in home-related demand. Post a recent dip in the share price, we think valuation now looks more attractive.',\n",
       " 9: \"Price target/base case We use a DCF analysis to value Dunelm at 1,450p using a WACC of  7.5%  and  terminal  growth  rate  of  2.0%  given  Dunelm's digital  growth  potential  but  also  UK-only  presence.  At  our target price, Dunelm would trade at c.13x CY21E lease-adj.EV/ EBITDAR.\",\n",
       " 10: \"Risks We  see  risk  to  our  rating  and  price  target  should  Dunelm's customer-facing  operations  remain  closed  for  longer  than expected.  The  main  longer-term  downside  risk  is  that  sales slow due to worse than expected execution or a tougher than expected  competitive  or  industry  environment,  which  could operating deleverage in the business. However, Dunelm has a strong reputation for value for money which should mean it  is  relatively  well  positioned  for  a  tougher  UK  economic environment.\",\n",
       " 11: 'Upside scenario Our upside scenario assumes that Dunelm can sustain a c.8% sales  growth  rate  for  our  DCF  forecast  period,  c.2pp  better than current expectations, and improve EBIT margin to c.15% versus c.13.5% currently, with a slightly lower cost of capital. This  would  yield  an  implied  share  price  of  approximately 1,800p.  Short  term,  the  biggest  risk  to  the  upside  is  stores opening and ramping up again faster than expected.',\n",
       " 12: 'Downside scenario Our  downside  scenario  assumes  a  long-term  CAGR  in  sales of  c.3%,  c.3pp  worse  than  current  expectations  and  EBIT margin  fades  down  to  12%.  This  would  imply  a  share  price of 1,050p. Prolonged store closures, due to further COVID-19 restrictions,  or  a  very  slow  recovery  in  shopper  numbers would present near term risks to our valuation.',\n",
       " 13: 'Gaining share in homewares; when stores are allowed to open  When  stores  have  been  open,  Dunelm  has,  on  the  whole,  been  outperforming  the  UK  homewares  market,  although  it  underperformed  the  market  during  Q4  FY20,  while  stores  were  closed.  We  think  the  grocers  were  able  to  take  share  during  this  period  by  virtue  of  being classed as ‘essential retailers’.',\n",
       " 14: 'However, in Q1, when stores reopened, Dunelm was able to take back share, outperforming  the  market  by  c.8pp.  We  think  Dunelm  should  continue  to  gain  share  going  forwards,  benefitting from the strong UK homewares market and its strong range advantage.',\n",
       " 15: 'Dunelm  operates  at  the  value  end  of  the  market,  which  should  mean  it  is  well  positioned  given  pressures  on  employment  and  income  and  as  it  is  the  UK’s  leading  specialist  homewares retailer with over 30K SKUs in store and 300k SKUs online. Dunelm also has less  seasonal inventory risk compared with apparel retailers.',\n",
       " 16: 'Its  out-of-town  store  estate  should  be  a  further  benefit,  given  its  stores  offer  car  parking  space and are larger and so more easily adapted to social distancing compared to the High  Street.',\n",
       " 17: 'In the past, Dunelm has consistently benefitted from capacity withdrawal in homewares and  so  we  think  that  it  should  emerge  from  the  crisis  in  stronger  relative  shape  compared  to  some  of  its  competitors.  For  instance  we  have  seen  Ponden  Home  recently  fall  into  administration  (source  Retail  Gazette  Nov  7)  and  we  would  expect  further  capacity  withdrawal  in  the  space  over  time,  to  at  least  offset  growth  from  fashion  retailers  like  Primark.',\n",
       " 18: 'Exhibit 2: Dunelm has been outperforming the market when stores are open',\n",
       " 19: 'Online an offset to store closures  Although  Dunelm  was  not  included  in  the  “essentials”  categories  for  retailers  in  the  November  UK  lockdown,  despite  being  added  to  the  list  back  in  May  during  the  first',\n",
       " 20: 'lockdown, it should see a partial offset to lost sales from its home delivery service (c.15% of  sales).',\n",
       " 21: 'Dunelm’s new digital platform, introduced last December, was performing well prior to the  onset of COVID-19, offering increased functionality, better search functions and an improved  checkout experience. Dunelm has also developed a Click & Collect from store proposition, for  which we think customer satisfaction has been high.',\n",
       " 22: 'It has a strong range advantage over other retailers, with more choice at lower price points  and  less  seasonal  risk  than  the  apparel  retailers.  We  also  expect  it  to  launch  a  credit  offer  soon  which  should  further  stimulate  sales  growth  and  improve  convenience  and  ability  to  pay for customers.',\n",
       " 23: 'Stores should be able to reopen again from December and we anticipate that there will be  some pent-up demand coming through, as we have seen  anecdotally  in Wales  since  stores  there  reopened  two  weeks  ago.  This  is  partly  due  to  likely  further  ongoing  restrictions  on  hospitality and travel.',\n",
       " 24: 'Exhibit 3: Online sales have been growing strongly recently',\n",
       " 25: 'Housing market outlook looking more promising  Recently, we think the UK homewares market has been benefitting from a stronger working- from-home  trend,  as  consumers  seek  to  improve  their  homes,  as  they  are  spending  more  time there.',\n",
       " 26: 'Going forward we see a further potential benefit for UK homewares from a stronger housing  market. According to the latest RICS UK Residential Survey, sentiment across the UK housing  market has risen strongly recently with nationwide house prices rising as a result of the UK  Government Stamp Duty Holiday, which is in place until March 2021.',\n",
       " 27: 'Exhibit 4: A stronger housing market should be supportive for homewares',\n",
       " 28: 'Online margins comparable to in-store  There  have  been  some  concerns  in  the  market  in  recent  years  about  the  marginal  cost  of  making an online sale being higher than in store. We think the gap has closed over time as  online  sales  are  incremental,  there  have  been  in-store  productivity  initiatives,  and  also  as  general online efficiencies have come through.',\n",
       " 29: 'Online margins for Dunelm are now broadly comparable to those in-store in a normal trading  environment,  since  online  has  higher  variable  and  lower  fixed  costs.  Additionally,  Dunelm  increasingly  should be able to leverage off its store estate to serve customers. In future its  stores  will be used to  support  the online  offer,  for  example with customers able to  view a  product in store and then order it online.',\n",
       " 30: 'Obviously though with a prolonged period of lower footfall to stores likely, overall margins  will be more challenging to maintain given likely softer sales densities, however, we expect  margins should recover in line with footfall.',\n",
       " 31: 'Exhibit 5: Dunelm channel contribution',\n",
       " 32: 'Strong track record of cash returns  Dunelm’s liquidity position remains strong, with a net cash position of £156mn at 31 October  2020 and access to £175 of bank financing facilities.',\n",
       " 33: 'Dunelm has a  strong track  record of additional cash returns, having returned c.£480mn  of  cash  to  shareholders  since  its  IPO  back  in  2006  and  it  last  paid  a  special  dividend  back  in  October 2019 of 32p per share (c.£65mn in total).',\n",
       " 34: 'It  is  targeting  a  net  debt/EBITDA  range  of  0.2-0.6x  and  we  estimate  it  could  have  c.£150- 200mn of firepower at the end of this fiscal year to take it to that target. Given strong trading  momentum, assuming the trading environment normalises in 2021, we see potential for it to  pay additional cash returns. We forecast additional cash returns of c.£66mn in FY22.',\n",
       " 35: 'Exhibit 6: Dunelm has a strong track record of additional cash returns',\n",
       " 36: 'Adjusting estimates; slightly above consensus  We have upgraded our EPS and PBT estimates for FY21 1% based on the ongoing strength in  home-related  spending.  However,  we  have  lowered  our  FY22-23  estimates  by  c.3%  as  we  recognise that Dunelm will likely face tougher comparables in FY22, albeit it should see gross  margin  tailwinds  that  year  from  the  stronger  GBP  vs  the  USD.  This  still  leaves  us  slightly  above consensus estimates.',\n",
       " 37: 'The general shape of forecasts should be a strong FY21, particularly H1, with opex headwinds  to come from H2 but still store closures to comp against in Q4. Then Q1 FY22E will present a  very difficult comparable but Q2E will include a period of closed stores (November). Overall  we expect growth to be lumpy so we would encourage investors to look through the noise  and think about Dunelm’s more normalised growth (potentially 10%), strong cash generation  and inefficient balance sheet which provides scope for enhanced cash returns, with dividend  payments likely to start again from February.',\n",
       " 38: 'Exhibit 7: Dunelm – Summary of estimate changes',\n",
       " 39: 'Valuation now looks more attractive   Dunelm’s shares have  come in post  the announcement  of  the  UK lockdown and Dunelm is  now trading at c.20x CY21E P/E, a little below the P/E multiples seen earlier this year.',\n",
       " 40: 'Dunelm  is  now  trading  at  11x  CY21E  adj.  EV/EBITDAR,  slightly  above  its  historical  average,  however, we think that is now better positioned for continued omnichannel expansion.',\n",
       " 41: 'We use a DCF analysis to arrive at our price target of  1,450p. We model a 10-year CAGR in  sales of c.5.7% and EBIT of c.7.8%. We use a WACC of 7.5% and terminal growth rate of 2.0%  given Dunelm’s medium-term ambition to double sales via online growth but also its UK-only  geographic exposure.',\n",
       " 42: 'At our price target, Dunelm would trade at c.23.5x CY21E P/E, which is towards the top end  of its historical range, falling to c.22x in CY22E.',\n",
       " 43: 'Exhibit 8: Dunelm DCF analysis suggests a price of c.1,450p',\n",
       " 44: 'Exhibit 9: Sensitivity analysis for Dunelm',\n",
       " 45: 'Exhibit 10: Dunelm historical P/E and EV/EBITDAR multiples – we see potential for further expansion as Dunelm has improved  its omni-channel capabilities',\n",
       " 46: 'Management team highly incentivised  We also note the CEO and CFO now have more \"skin in the game\" due to an LTIP based on  performance until June 2023 (nil cost option price 1,186p). This will be based on growth in  EPS over the three-year period, and we think Dunelm is very capable of generating double- digit  EPS  growth  in  a  normalized  environment,  due  to  the  strength  of  its  team  and  omnichannel offer.',\n",
       " 47: '',\n",
       " 48: 'Exhibit 11: Key financials for Dunelm',\n",
       " 49: \"We use a DCF analysis to arrive at our price target of 1,450p. We model a long-term CAGR in sales and EBIT of 6% and 8%, respectively. We use a WACC of 7.5% and terminal growth rate of 2.0% to reflect Dunelm's growth potential but 100% UK exposure. The implied return to our price target supports our Outperform rating.\",\n",
       " 50: 'Short term Dunelm may lose further sales from a more prolonged or renewed period of store closures. In addition, margins may come under pressure from the need for higher discounting. Alternatively  Dunelm  may  fail  to  execute  as  well  as  we  expect  or  we  may  see  increased competition in the homewares space, although just as likely in our view is further capacity withdrawal, as has been the case historically.',\n",
       " 51: \"Dunelm is the UK's leading specialist homewares retailer operating from c.170 out-of-town superstores with an average size of 30k sq. ft and 2 smaller High Street formats. Dunelm's key differentiator has been its breadth and depth of range which consists of c.30k lines in stores and >300k lines online. The company's wide price architecture allows it to compete both with the grocers and discounters at the entry price level and with the department stores and other specialists at the higher end. The company was founded in 1979 by Bill and Jean Adderley and the Adderley family continue to just over 50% of the shares. Dunelm's CEO Nick Wilkinson joined the management team in early 2018, following the departure of John Browett who took over as CEO in January 2016.\",\n",
       " 52: 'Non-U.S. analyst disclosure Richard Chamberlain and Manjari Dhar (i) are not registered/qualified as research analysts with the NYSE and/or FINRA and (ii) may not be associated persons of the RBC Capital Markets, LLC and therefore may not be subject to FINRA Rule 2241 restrictions on communications with a subject company, public appearances and trading securities held by a research analyst account. Conflicts disclosures The analyst(s) responsible for preparing this research report received compensation that is based upon various factors, including total revenues of the member companies of RBC Capital Markets and its affiliates, a portion of which are or have been generated by investment banking activities of the member companies of RBC Capital Markets and its affiliates.',\n",
       " 53: \"Please  note  that  current  conflicts  disclosures  may  differ  from  those  as  of  the  publication  date  on,  and  as  set  forth  in, this  report.  To  access  current  conflicts  disclosures,  clients  should  refer  to  https://www.rbccm.com/GLDisclosure/PublicWeb/ DisclosureLookup.aspx?entityId=1 or send a request to RBC CM Research Publishing, P.O. Box 50, 200 Bay Street, Royal Bank Plaza, 29th Floor, South Tower, Toronto, Ontario M5J 2W7. Explanation of RBC Capital Markets Equity rating system An analyst's 'sector' is the universe of companies for which the analyst provides research coverage. Accordingly, the rating assigned to a particular stock represents solely the analyst's view of how that stock will perform over the next 12 months relative to the analyst's sector average. Ratings Outperform (O): Expected to materially outperform sector average over 12 months. Sector Perform (SP): Returns expected to be in line with sector average over 12 months. Underperform (U): Returns expected to be materially below sector average over 12 months. Restricted (R): RBC policy precludes certain types of communications, including an investment recommendation, when RBC is acting as an advisor in certain merger or other strategic transactions and in certain other circumstances. Not Rated (NR): The rating, price targets and estimates have been removed due to applicable legal, regulatory or policy constraints which may include when RBC Capital Markets is acting in an advisory capacity involving the company. As of March 31, 2020, RBC Capital Markets discontinued its Top Pick rating. Top Pick rated securities represented an analysts best idea in the sector; expected to provide significant absolute returns over 12 months with a favorable risk-reward ratio. Top Pick rated securities have been reassigned to our Outperform rated securities category, which are securities expected to materially outperform sector average over 12 months. Risk Rating The Speculative risk rating reflects a security's lower level of financial or operating predictability, illiquid share trading volumes, high balance sheet leverage, or limited operating history that result in a higher expectation of financial and/or stock price volatility. Distribution of ratings For the purpose of ratings distributions, regulatory rules require member firms to assign ratings to one of three rating categories - Buy, Hold/Neutral, or Sell - regardless of a firm's own rating categories. Although RBC Capital Markets' ratings of Outperform (O), Sector Perform (SP), and Underperform (U) most closely correspond to Buy, Hold/Neutral and Sell, respectively, the meanings are not the same because our ratings are determined on a relative basis.\",\n",
       " 54: '',\n",
       " 55: \"References to a Recommended List in the recommendation history chart may include one or more recommended lists or model portfolios maintained by RBC Wealth Management or one of its affiliates. RBC Wealth Management recommended lists include the  Guided  Portfolio:  Prime  Income  (RL  6),  the  Guided  Portfolio:  Dividend  Growth  (RL  8),  the  Guided  Portfolio:  ADR  (RL  10), and the Guided Portfolio: All Cap Growth (RL 12). RBC Capital Markets recommended lists include the Strategy Focus List and the  Fundamental  Equity  Weightings  (FEW)  portfolios.  The  abbreviation  'RL  On'  means  the  date  a  security  was  placed  on  a Recommended List. The abbreviation 'RL Off' means the date a security was removed from a Recommended List.\",\n",
       " 56: 'Equity valuation and risks For valuation methods used to determine, and risks that may impede achievement of, price targets for covered companies, please see the most recent company-specific research report at https://www.rbcinsightresearch.com or send a request to RBC Capital Markets Research Publishing, P.O. Box 50, 200 Bay Street, Royal Bank Plaza, 29th Floor, South Tower, Toronto, Ontario M5J 2W7.',\n",
       " 57: \"We  use  a  DCF  analysis  to  arrive  at  our  price  target  of  1,450p.  We  model  a  long-term  CAGR  in  sales  and  EBIT  of  6%  and  8%, respectively. We use a WACC of 7.5% and terminal growth rate of 2.0% to reflect Dunelm's growth potential but 100% UK exposure. The implied return to our price target supports our Outperform rating.\",\n",
       " 58: 'Short term Dunelm may lose further sales from a more prolonged or renewed period of store closures. In addition, margins may come under pressure from the need for higher discounting. Alternatively Dunelm may fail to execute as well as we expect or we may see increased competition in the homewares space, although just as likely in our view is further capacity withdrawal, as has been the case historically.',\n",
       " 59: 'Conflicts policy RBC Capital Markets Policy for Managing Conflicts of Interest in Relation to Investment Research is available from us on request. To access our current policy, clients should refer to https://www.rbccm.com/global/file-414164.pdf or send a request to RBC Capital Markets Research Publishing, P.O. Box 50, 200 Bay Street, Royal Bank Plaza, 29th Floor, South Tower, Toronto, Ontario M5J 2W7. We reserve the right to amend or supplement this policy at any time.',\n",
       " 60: 'Dissemination of research and short-term trade ideas RBC Capital Markets endeavors to make all reasonable efforts to provide research simultaneously to all eligible clients, having regard to local time zones in overseas jurisdictions. RBC Capital Markets\\' equity research is posted to our proprietary website to ensure eligible clients receive coverage initiations and changes in ratings, targets and opinions in a timely manner. Additional distribution  may  be  done  by  the  sales  personnel  via  email,  fax,  or  other  electronic  means,  or  regular  mail.  Clients  may  also receive our research via third party vendors. RBC Capital Markets also provides eligible clients with access to SPARC on the Firms proprietary  INSIGHT  website,  via  email  and  via  third-party  vendors.  SPARC  contains  market  color  and  commentary  regarding subject companies on which the Firm currently provides equity research coverage. Research Analysts may, from time to time, include  short-term  trade  ideas  in  research  reports  and  /  or  in  SPARC.  A  short-term  trade  idea  offers  a  short-term  view  on how a security may trade, based on market and trading events, and the resulting trading opportunity that may be available. A short-term trade idea may differ from the price targets and recommendations in our published research reports reflecting the research analyst\\'s views of the longer-term (one year) prospects of the subject company, as a result of the differing time horizons, methodologies and/or other factors. Thus, it is possible that a subject company\\'s common equity that is considered a long-term \\'Sector Perform\\' or even an \\'Underperform\\' might present a short-term buying opportunity as a result of temporary selling pressure in the market; conversely, a subject company\\'s common equity rated a long-term \\'Outperform\\' could be considered susceptible to a short-term downward price correction. Short-term trade ideas are not ratings, nor are they part of any ratings system, and the firm generally does not intend, nor undertakes any obligation, to maintain or update short-term trade ideas. Short-term trade ideas may not be suitable for all investors and have not been tailored to individual investor circumstances and objectives, and investors should make their own independent decisions regarding any securities or strategies discussed herein. Please contact your investment advisor or institutional salesperson for more information regarding RBC Capital Markets\\' research. For a list of all recommendations on the company that were disseminated during the prior 12-month period, please click on the following link: https://rbcnew.bluematrix.com/sellside/MAR.action The 12 month history of SPARCs can be viewed at https://www.rbcinsightresearch.com. Analyst certification All of the views expressed in this report accurately reflect the personal views of the responsible analyst(s) about any and all of the subject securities or issuers. No part of the compensation of the responsible analyst(s) named herein is, or will be, directly or indirectly, related to the specific recommendations or views expressed by the responsible analyst(s) in this report. Third-party-disclaimers The Global Industry Classification Standard (\"GICS”) was developed by and is the exclusive property and a service mark of MSCI Inc. (“MSCI”) and Standard & Poor\\'s Financial Services LLC (“S&P”) and is licensed for use by RBC. Neither MSCI, S&P, nor any other party involved in making or compiling the GICS or any GICS classifications makes any express or implied warranties or representations with respect to such standard or classification (or the results to be obtained by the use thereof), and all such parties hereby expressly disclaim all warranties of originality, accuracy, completeness, merchantability and fitness for a particular purpose with respect to any of such standard or classification. Without limiting any of the foregoing, in no event shall MSCI, S&P, any of their affiliates or any third party involved in making or compiling the GICS or any GICS classifications have any liability for any direct, indirect, special, punitive, consequential or any other damages (including lost profits) even if notified of the possibility of such damages.'}"
      ]
     },
     "execution_count": 10,
     "metadata": {},
     "output_type": "execute_result"
    }
   ],
   "source": [
    "paragraph_dict"
   ]
  },
  {
   "cell_type": "markdown",
   "id": "470ba5fd",
   "metadata": {},
   "source": [
    "### Main analysis section"
   ]
  },
  {
   "cell_type": "code",
   "execution_count": 11,
   "id": "c3747cd5",
   "metadata": {
    "collapsed": true
   },
   "outputs": [
    {
     "data": {
      "application/vnd.jupyter.widget-view+json": {
       "model_id": "5f6ddac4d47d4ff6a99a8befadd466e7",
       "version_major": 2,
       "version_minor": 0
      },
      "text/plain": [
       "Downloading:   0%|          | 0.00/1.91M [00:00<?, ?B/s]"
      ]
     },
     "metadata": {},
     "output_type": "display_data"
    },
    {
     "name": "stderr",
     "output_type": "stream",
     "text": [
      "C:\\Users\\Sarang\\miniconda3\\envs\\finenv\\lib\\site-packages\\huggingface_hub\\file_download.py:123: UserWarning: `huggingface_hub` cache-system uses symlinks by default to efficiently store duplicated files but your machine does not support them in C:\\Users\\Sarang\\.cache\\huggingface\\hub. Caching files will still work but in a degraded version that might require more space on your disk. This warning can be disabled by setting the `HF_HUB_DISABLE_SYMLINKS_WARNING` environment variable. For more details, see https://huggingface.co/docs/huggingface_hub/how-to-cache#limitations.\n",
      "To support symlinks on Windows, you either need to activate Developer Mode or to run Python as an administrator. In order to see activate developer mode, see this article: https://docs.microsoft.com/en-us/windows/apps/get-started/enable-your-device-for-development\n",
      "  warnings.warn(message)\n"
     ]
    },
    {
     "data": {
      "application/vnd.jupyter.widget-view+json": {
       "model_id": "c3b73959c4da455d8fca7f175ad5fc9d",
       "version_major": 2,
       "version_minor": 0
      },
      "text/plain": [
       "Downloading:   0%|          | 0.00/1.34k [00:00<?, ?B/s]"
      ]
     },
     "metadata": {},
     "output_type": "display_data"
    },
    {
     "data": {
      "application/vnd.jupyter.widget-view+json": {
       "model_id": "585af8f82259483cb95f6e15dfb729bb",
       "version_major": 2,
       "version_minor": 0
      },
      "text/plain": [
       "Downloading:   0%|          | 0.00/1.44k [00:00<?, ?B/s]"
      ]
     },
     "metadata": {},
     "output_type": "display_data"
    },
    {
     "data": {
      "application/vnd.jupyter.widget-view+json": {
       "model_id": "04402231ddbb4defa72660c19a0f8ff0",
       "version_major": 2,
       "version_minor": 0
      },
      "text/plain": [
       "Downloading:   0%|          | 0.00/2.28G [00:00<?, ?B/s]"
      ]
     },
     "metadata": {},
     "output_type": "display_data"
    },
    {
     "name": "stdout",
     "output_type": "stream",
     "text": [
      "Saudi bank to pay a 3.5% premium to Samba share price. Gulf region’s third-largest lender will have total assets of $220 billion\n"
     ]
    }
   ],
   "source": [
    "from transformers import PegasusTokenizer, PegasusForConditionalGeneration, TFPegasusForConditionalGeneration\n",
    "\n",
    "# Let's load the model and the tokenizer \n",
    "model_name = \"human-centered-summarization/financial-summarization-pegasus\"\n",
    "tokenizer = PegasusTokenizer.from_pretrained(model_name)\n",
    "model = PegasusForConditionalGeneration.from_pretrained(model_name) # If you want to use the Tensorflow model \n",
    "                                                                    # just replace with TFPegasusForConditionalGeneration\n",
    "\n",
    "\n"
   ]
  },
  {
   "cell_type": "code",
   "execution_count": 18,
   "id": "abedd56e",
   "metadata": {},
   "outputs": [
    {
     "name": "stdout",
     "output_type": "stream",
     "text": [
      "Retailer is set up for continued expansion. LTIP gives CEO and CFO more \"skin in the game\"\n",
      "8.245872497558594\n"
     ]
    }
   ],
   "source": [
    "# Some text to summarize here\n",
    "text_to_summarize = paragraph_dict[5]\n",
    "# Tokenize our text\n",
    "# If you want to run the code in Tensorflow, please remember to return the particular tensors as simply as using return_tensors = 'tf'\n",
    "input_ids = tokenizer(text_to_summarize, return_tensors=\"pt\").input_ids\n",
    "start = time.time()\n",
    "\n",
    "# Generate the output (Here, we use beam search but you can also use any other strategy you like)\n",
    "output = model.generate(\n",
    "    input_ids, \n",
    "    max_length=64, \n",
    "    num_beams=3, \n",
    "    early_stopping=True\n",
    ")\n",
    "\n",
    "# Finally, we can print the generated summary\n",
    "print(tokenizer.decode(output[0], skip_special_tokens=True))\n",
    "end = time.time()\n",
    "print(end - start)\n"
   ]
  },
  {
   "cell_type": "code",
   "execution_count": 22,
   "id": "4463379e",
   "metadata": {},
   "outputs": [
    {
     "name": "stdout",
     "output_type": "stream",
     "text": [
      "Shares have come off recently on store closures and rotation out of so-called beneficiaries.\n",
      "homewares not included in list of \"essential\" categories.\n",
      "Retailer has strong balance sheet, low debt, strong track record of returning surplus cash.\n",
      "Retailer has a significant range advantage over its rivals.\n",
      "We have trimmed our FY22-23 PBT estimates by 3%, still above consensus.\n",
      "Retailer is set up for continued expansion. LTIP gives CEO and CFO more \"skin in the game\"\n",
      ".\n",
      "Retailer is well-run, has a significant range advantage and is cash generative.\n",
      "Valuation now looks more attractive after recent dip.\n",
      "Retailer could be worth more than £2 billion\n",
      "99.6954927444458\n"
     ]
    }
   ],
   "source": [
    "start = time.time()\n",
    "for item in range(10):\n",
    "    \n",
    "    # Some text to summarize here\n",
    "    text_to_summarize = paragraph_dict[item]\n",
    "    \n",
    "    input_ids = tokenizer(text_to_summarize, return_tensors=\"pt\").input_ids\n",
    "    \n",
    "\n",
    "# Generate the output (Here, we use beam search but you can also use any other strategy you like)\n",
    "    output = model.generate(\n",
    "    input_ids, \n",
    "    max_length=32, \n",
    "    num_beams=5, \n",
    "    early_stopping=True\n",
    "    )\n",
    "\n",
    "    \n",
    "    \n",
    "    print(tokenizer.decode(output[0], skip_special_tokens=True))\n",
    "end = time.time()\n",
    "print(end - start)"
   ]
  },
  {
   "cell_type": "code",
   "execution_count": null,
   "id": "6add7bef",
   "metadata": {},
   "outputs": [],
   "source": []
  }
 ],
 "metadata": {
  "kernelspec": {
   "display_name": "Python 3 (ipykernel)",
   "language": "python",
   "name": "python3"
  },
  "language_info": {
   "codemirror_mode": {
    "name": "ipython",
    "version": 3
   },
   "file_extension": ".py",
   "mimetype": "text/x-python",
   "name": "python",
   "nbconvert_exporter": "python",
   "pygments_lexer": "ipython3",
   "version": "3.7.12"
  }
 },
 "nbformat": 4,
 "nbformat_minor": 5
}
