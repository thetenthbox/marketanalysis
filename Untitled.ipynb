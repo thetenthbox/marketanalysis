{
 "cells": [
  {
   "cell_type": "markdown",
   "id": "aba41c78",
   "metadata": {},
   "source": [
    "# Analysis of quantitative market variables of US Equities around earnings seasons\n",
    "### Authored by Sarang Balan under guidance of Jean-Phillipe Matois\n",
    "\n",
    "This python notebook conducts a quantitative and qualitative analysis around the market variables of public US companies to discover, analyse and understand potential patterns in the markets during earning seasons"
   ]
  },
  {
   "cell_type": "markdown",
   "id": "d55f0527",
   "metadata": {},
   "source": [
    "### Importing Libraries"
   ]
  },
  {
   "cell_type": "code",
   "execution_count": 196,
   "id": "0b9b1a14",
   "metadata": {},
   "outputs": [],
   "source": [
    "### importing libraries \n",
    "import pandas as pd\n",
    "import numpy as np\n",
    "import matplotlib.pyplot as plt\n",
    "import sklearn as skl\n",
    "import yfinance as yf\n",
    "import html5lib\n",
    "import datetime\n",
    "\n",
    "from datetime import date\n",
    "from datetime import datetime\n",
    "from datetime import timedelta\n",
    "\n"
   ]
  },
  {
   "cell_type": "markdown",
   "id": "9c6e553f",
   "metadata": {},
   "source": [
    "### Collecting earnings dates\n",
    "\n",
    "The yfinance library accesses earnings reports of public companies from the Yahoo Finance website. Note, this library and API access is not officially related to Yahoo, and the data is of acceptable quality for the purposes of this project. "
   ]
  },
  {
   "cell_type": "markdown",
   "id": "4ecbeb1f",
   "metadata": {},
   "source": [
    "First step is to create a python function that takes in tickers and start/end date and outputs precise dates of the earnings "
   ]
  },
  {
   "cell_type": "code",
   "execution_count": 82,
   "id": "aa724e6e",
   "metadata": {},
   "outputs": [],
   "source": [
    "def get_earnings_dates(ticker: str, start_date: str, end_date: str):\n",
    "    \"\"\"\n",
    "    This function takes three arguments: stock ticker, start date, and end date - to return a list of datetime format\n",
    "    strings of earning release dates within the given date period.\n",
    "    \n",
    "    Arguments:\n",
    "        ticker (str): Ticker of the Equity\n",
    "        start_date (str/datetime): Start date after which to bring up and save the dates of future releases\n",
    "        end_date (str/datetime): End date before which all earnings release dates have to be saved\n",
    "    \n",
    "    returns:\n",
    "        list_dates: list of dates of earning releases\n",
    "    \"\"\"\n",
    "    \n",
    "    stock = yf.Ticker(ticker)\n",
    "    \n",
    "    df = stock.earnings_dates\n",
    "    start_date = datetime.strptime(start_date, '%Y-%m-%d')\n",
    "    end_date = datetime.strptime(end_date, '%Y-%m-%d')\n",
    "    df.index = df.index.tz_localize(None)\n",
    "    \n",
    "    mask = (df.index > start_date) & (df.index<= end_date)\n",
    "    mydf = df.loc[mask]\n",
    "    \n",
    "    mylist = list(mydf.index)\n",
    "    \n",
    "    return mylist\n",
    "    "
   ]
  },
  {
   "cell_type": "code",
   "execution_count": 83,
   "id": "4611535b",
   "metadata": {},
   "outputs": [],
   "source": [
    "mylist = get_earnings_dates(ticker='MSFT', start_date='2018-04-26', end_date='2022-04-26')\n"
   ]
  },
  {
   "cell_type": "code",
   "execution_count": 155,
   "id": "ac4b0edb",
   "metadata": {},
   "outputs": [
    {
     "data": {
      "text/plain": [
       "[Timestamp('2022-01-25 11:00:00'),\n",
       " Timestamp('2021-10-26 12:00:00'),\n",
       " Timestamp('2021-07-27 12:00:00'),\n",
       " Timestamp('2021-04-27 12:00:00'),\n",
       " Timestamp('2021-01-26 11:00:00'),\n",
       " Timestamp('2020-10-27 12:00:00'),\n",
       " Timestamp('2020-07-22 12:00:00'),\n",
       " Timestamp('2020-04-29 12:00:00'),\n",
       " Timestamp('2020-01-29 11:00:00'),\n",
       " Timestamp('2019-10-23 12:00:00'),\n",
       " Timestamp('2019-07-18 12:00:00'),\n",
       " Timestamp('2019-04-24 12:00:00'),\n",
       " Timestamp('2019-01-30 11:00:00'),\n",
       " Timestamp('2018-10-24 12:00:00'),\n",
       " Timestamp('2018-07-19 12:00:00'),\n",
       " Timestamp('2018-04-26 12:00:00')]"
      ]
     },
     "execution_count": 155,
     "metadata": {},
     "output_type": "execute_result"
    }
   ],
   "source": [
    "mylist"
   ]
  },
  {
   "cell_type": "markdown",
   "id": "02dc28ae",
   "metadata": {},
   "source": [
    "### Collecting stock prices"
   ]
  },
  {
   "cell_type": "markdown",
   "id": "6a7c49fd",
   "metadata": {},
   "source": [
    "Now, given a list of dates for earning releases, we need to create a function that pulls in hourly stock prices from T - 2 trading days and T + 2  trading days, where T is the market closing time of the earnings release. "
   ]
  },
  {
   "cell_type": "code",
   "execution_count": 194,
   "id": "8299c4d5",
   "metadata": {},
   "outputs": [],
   "source": [
    "def get_prices(ticker: str, t_date: datetime, find_percentage_change: bool=True):\n",
    "    \"\"\"\n",
    "    Captures hourly prices 14 trading hours before market close (day of release) and 14 trading hours after next open\n",
    "    \n",
    "    Arguments:\n",
    "        ticker (str): Ticker of the stock \n",
    "        t_date (datetime): Date of earnings release\n",
    "        find_percentage_change (bool): Return list in terms of % change from first hour price recorded (T-2 days)\n",
    "        \n",
    "    return:\n",
    "        pricelist: list of prices over 5 or 4 trading days\n",
    "        timelist: list of times corresponding to pricelist items\n",
    "        \n",
    "    \"\"\"\n",
    "    \n",
    "    #data = yf.download(ticker, start=\"2021-01-01\")\n",
    "    data = mydat\n",
    "    mylist = []\n",
    "    timelist = []\n",
    "    T = t_date\n",
    "    for delta in range(-2,3,1):\n",
    "    \n",
    "        Tnow = T + timedelta(days=delta)\n",
    "        Tnow = Tnow.to_pydatetime().date().strftime('%Y-%m-%d')\n",
    "    \n",
    "        mydf = data.loc[Tnow]\n",
    "        #print('printing df')\n",
    "        #print(mydf)\n",
    "    \n",
    "        if mydf.empty and delta < 0:\n",
    "            Tnow = T + timedelta(days=delta-2)\n",
    "            Tnow = Tnow.to_pydatetime().date().strftime('%Y-%m-%d')\n",
    "            mydf = data.loc[Tnow]\n",
    "            #print(mydf)\n",
    "            \n",
    "        \n",
    "        if mydf.empty and delta > 0:\n",
    "            Tnow = T + timedelta(days=delta+2)\n",
    "            Tnow = Tnow.to_pydatetime().date().strftime('%Y-%m-%d')\n",
    "            mydf = data.loc[Tnow]\n",
    "            #print(mydf)\n",
    "            \n",
    "            \n",
    "        mylist.extend(list(mydf.Close))\n",
    "        timelist.extend(list(mydf.index))\n",
    "    if find_percentage_change:\n",
    "        pricelist = [x / mylist[0] for x in mylist]\n",
    "    \n",
    "    return timelist, pricelist"
   ]
  },
  {
   "cell_type": "code",
   "execution_count": 195,
   "id": "632cebda",
   "metadata": {},
   "outputs": [
    {
     "data": {
      "text/plain": [
       "[Timestamp('2022-01-21 09:30:00-0500', tz='America/New_York'),\n",
       " Timestamp('2022-01-21 10:30:00-0500', tz='America/New_York'),\n",
       " Timestamp('2022-01-21 11:30:00-0500', tz='America/New_York'),\n",
       " Timestamp('2022-01-21 12:30:00-0500', tz='America/New_York'),\n",
       " Timestamp('2022-01-21 13:30:00-0500', tz='America/New_York'),\n",
       " Timestamp('2022-01-21 14:30:00-0500', tz='America/New_York'),\n",
       " Timestamp('2022-01-21 15:30:00-0500', tz='America/New_York'),\n",
       " Timestamp('2022-01-24 09:30:00-0500', tz='America/New_York'),\n",
       " Timestamp('2022-01-24 10:30:00-0500', tz='America/New_York'),\n",
       " Timestamp('2022-01-24 11:30:00-0500', tz='America/New_York'),\n",
       " Timestamp('2022-01-24 12:30:00-0500', tz='America/New_York'),\n",
       " Timestamp('2022-01-24 13:30:00-0500', tz='America/New_York'),\n",
       " Timestamp('2022-01-24 14:30:00-0500', tz='America/New_York'),\n",
       " Timestamp('2022-01-24 15:30:00-0500', tz='America/New_York'),\n",
       " Timestamp('2022-01-25 09:30:00-0500', tz='America/New_York'),\n",
       " Timestamp('2022-01-25 10:30:00-0500', tz='America/New_York'),\n",
       " Timestamp('2022-01-25 11:30:00-0500', tz='America/New_York'),\n",
       " Timestamp('2022-01-25 12:30:00-0500', tz='America/New_York'),\n",
       " Timestamp('2022-01-25 13:30:00-0500', tz='America/New_York'),\n",
       " Timestamp('2022-01-25 14:30:00-0500', tz='America/New_York'),\n",
       " Timestamp('2022-01-25 15:30:00-0500', tz='America/New_York'),\n",
       " Timestamp('2022-01-26 09:30:00-0500', tz='America/New_York'),\n",
       " Timestamp('2022-01-26 10:30:00-0500', tz='America/New_York'),\n",
       " Timestamp('2022-01-26 11:30:00-0500', tz='America/New_York'),\n",
       " Timestamp('2022-01-26 12:30:00-0500', tz='America/New_York'),\n",
       " Timestamp('2022-01-26 13:30:00-0500', tz='America/New_York'),\n",
       " Timestamp('2022-01-26 14:30:00-0500', tz='America/New_York'),\n",
       " Timestamp('2022-01-26 15:30:00-0500', tz='America/New_York'),\n",
       " Timestamp('2022-01-27 09:30:00-0500', tz='America/New_York'),\n",
       " Timestamp('2022-01-27 10:30:00-0500', tz='America/New_York'),\n",
       " Timestamp('2022-01-27 11:30:00-0500', tz='America/New_York'),\n",
       " Timestamp('2022-01-27 12:30:00-0500', tz='America/New_York'),\n",
       " Timestamp('2022-01-27 13:30:00-0500', tz='America/New_York'),\n",
       " Timestamp('2022-01-27 14:30:00-0500', tz='America/New_York'),\n",
       " Timestamp('2022-01-27 15:30:00-0500', tz='America/New_York')]"
      ]
     },
     "execution_count": 195,
     "metadata": {},
     "output_type": "execute_result"
    }
   ],
   "source": [
    "get_prices('MSFT', T)"
   ]
  },
  {
   "cell_type": "code",
   "execution_count": 1,
   "id": "9744dcc0",
   "metadata": {},
   "outputs": [
    {
     "ename": "NameError",
     "evalue": "name 'data' is not defined",
     "output_type": "error",
     "traceback": [
      "\u001b[1;31m---------------------------------------------------------------------------\u001b[0m",
      "\u001b[1;31mNameError\u001b[0m                                 Traceback (most recent call last)",
      "\u001b[1;32m~\\AppData\\Local\\Temp\\ipykernel_13132\\92893776.py\u001b[0m in \u001b[0;36m<module>\u001b[1;34m\u001b[0m\n\u001b[1;32m----> 1\u001b[1;33m \u001b[0mdata\u001b[0m\u001b[1;33m.\u001b[0m\u001b[0mloc\u001b[0m\u001b[1;33m[\u001b[0m\u001b[1;34m'2021-01-04'\u001b[0m\u001b[1;33m]\u001b[0m\u001b[1;33m\u001b[0m\u001b[1;33m\u001b[0m\u001b[0m\n\u001b[0m",
      "\u001b[1;31mNameError\u001b[0m: name 'data' is not defined"
     ]
    }
   ],
   "source": [
    "data.loc['2021-01-04']"
   ]
  },
  {
   "cell_type": "code",
   "execution_count": null,
   "id": "c6d30835",
   "metadata": {},
   "outputs": [],
   "source": []
  }
 ],
 "metadata": {
  "kernelspec": {
   "display_name": "Python 3 (ipykernel)",
   "language": "python",
   "name": "python3"
  },
  "language_info": {
   "codemirror_mode": {
    "name": "ipython",
    "version": 3
   },
   "file_extension": ".py",
   "mimetype": "text/x-python",
   "name": "python",
   "nbconvert_exporter": "python",
   "pygments_lexer": "ipython3",
   "version": "3.7.13"
  }
 },
 "nbformat": 4,
 "nbformat_minor": 5
}
